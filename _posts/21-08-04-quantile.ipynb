{
 "cells": [
  {
   "cell_type": "markdown",
   "id": "91966086",
   "metadata": {},
   "source": [
    "# 범주형 데이터 십분위로 나누기"
   ]
  },
  {
   "cell_type": "markdown",
   "id": "fca68e69",
   "metadata": {},
   "source": [
    "- quantile 함수를 이용하면 해당 컬럼의 십분위 값을 알 수 있습니다.\n",
    "- 반복문으로 해당 행을 분위값으로 분류합니다."
   ]
  },
  {
   "cell_type": "code",
   "execution_count": 97,
   "id": "f49a66f6",
   "metadata": {},
   "outputs": [
    {
     "data": {
      "text/html": [
       "<div>\n",
       "<style scoped>\n",
       "    .dataframe tbody tr th:only-of-type {\n",
       "        vertical-align: middle;\n",
       "    }\n",
       "\n",
       "    .dataframe tbody tr th {\n",
       "        vertical-align: top;\n",
       "    }\n",
       "\n",
       "    .dataframe thead th {\n",
       "        text-align: right;\n",
       "    }\n",
       "</style>\n",
       "<table border=\"1\" class=\"dataframe\">\n",
       "  <thead>\n",
       "    <tr style=\"text-align: right;\">\n",
       "      <th></th>\n",
       "      <th>index</th>\n",
       "      <th>price</th>\n",
       "    </tr>\n",
       "  </thead>\n",
       "  <tbody>\n",
       "    <tr>\n",
       "      <th>29995</th>\n",
       "      <td>29995</td>\n",
       "      <td>34.99</td>\n",
       "    </tr>\n",
       "    <tr>\n",
       "      <th>29996</th>\n",
       "      <td>29996</td>\n",
       "      <td>39.00</td>\n",
       "    </tr>\n",
       "    <tr>\n",
       "      <th>29997</th>\n",
       "      <td>29997</td>\n",
       "      <td>1200.00</td>\n",
       "    </tr>\n",
       "    <tr>\n",
       "      <th>29998</th>\n",
       "      <td>29998</td>\n",
       "      <td>749.90</td>\n",
       "    </tr>\n",
       "    <tr>\n",
       "      <th>29999</th>\n",
       "      <td>29999</td>\n",
       "      <td>198.90</td>\n",
       "    </tr>\n",
       "  </tbody>\n",
       "</table>\n",
       "</div>"
      ],
      "text/plain": [
       "       index    price\n",
       "29995  29995    34.99\n",
       "29996  29996    39.00\n",
       "29997  29997  1200.00\n",
       "29998  29998   749.90\n",
       "29999  29999   198.90"
      ]
     },
     "execution_count": 97,
     "metadata": {},
     "output_type": "execute_result"
    }
   ],
   "source": [
    "# 데이터 불러오기\n",
    "df = pd.read_csv('datas/order_items.csv')\n",
    "df = df.reset_index()[['index','price']][:30000]\n",
    "\n",
    "df.tail()\n",
    "# index = 주문 번호\n",
    "# price = 주문 금액"
   ]
  },
  {
   "cell_type": "code",
   "execution_count": 108,
   "id": "e65a19d3",
   "metadata": {},
   "outputs": [
    {
     "data": {
      "text/plain": [
       "<AxesSubplot:ylabel='price'>"
      ]
     },
     "execution_count": 108,
     "metadata": {},
     "output_type": "execute_result"
    },
    {
     "data": {
      "image/png": "[encoded data removed]",
      "text/plain": [
       "<Figure size 288x360 with 1 Axes>"
      ]
     },
     "metadata": {
      "image/png": {
       "height": 289,
       "width": 285
      },
      "needs_background": "light"
     },
     "output_type": "display_data"
    }
   ],
   "source": [
    "# 데이터는 이런 분포로 되어있습니다.\n",
    "plt.figure(figsize = (4,5))\n",
    "sns.violinplot(data = df, y = 'price')"
   ]
  },
  {
   "cell_type": "markdown",
   "id": "d15c3aa4",
   "metadata": {},
   "source": [
    "## quantile 함수\n",
    "- quantile 함수를 쓰면 해당 수치형 데이터의 분위 수 값을 계산할 수 있습니다.\n",
    "- 시리즈.quantile(q = 분위수/전체)"
   ]
  },
  {
   "cell_type": "code",
   "execution_count": 99,
   "id": "8c3fe0b8",
   "metadata": {},
   "outputs": [
    {
     "name": "stdout",
     "output_type": "stream",
     "text": [
      "29.0\n",
      "74.9\n",
      "6735.0\n"
     ]
    }
   ],
   "source": [
    "# 100분위 수 15\n",
    "print(df['price'].quantile(q= 15/100))\n",
    "# 10분위수 5\n",
    "print(df['price'].quantile(q= 5/10))\n",
    "# 10분위 수 10\n",
    "print(df['price'].quantile(q= 10/10))\n"
   ]
  },
  {
   "cell_type": "markdown",
   "id": "6c9360cf",
   "metadata": {},
   "source": [
    "## 분위수 분류하기\n",
    "- 첫번째 반복문은 10~1역순으로 진행됩니다.\n",
    "    - 몇분위수 값을 계산하여, qi에 할당합니다.\n",
    "- 두번째 반복문에서 행별로 돌아가며, 분위값 분류를 진행합니다."
   ]
  },
  {
   "cell_type": "code",
   "execution_count": 102,
   "id": "a72a3d3a",
   "metadata": {},
   "outputs": [
    {
     "name": "stdout",
     "output_type": "stream",
     "text": [
      "q10:  ~ 6735\n",
      "q9:  ~ 229\n",
      "q8:  ~ 151\n",
      "q7:  ~ 120\n",
      "q6:  ~ 95\n",
      "q5:  ~ 75\n",
      "q4:  ~ 59\n",
      "q3:  ~ 47\n",
      "q2:  ~ 35\n",
      "q1:  ~ 24\n"
     ]
    }
   ],
   "source": [
    "# 10에서 1까지 역순으로 반복\n",
    "for i in range(10,0,-1):\n",
    "    # qi = 얼마\n",
    "    globals()[f'q{i}'] = df['price'].quantile(q = i/10)\n",
    "    # 얼마까지 몇분위인지 출력\n",
    "    print(f'q{i}:  ~ ' + str(round(globals()[f'q{i}'])))\n",
    "    # df의 행마다 돌아가며 반복, qi값보다 작으면 'qi' 할당\n",
    "    for j in df.index:\n",
    "        # qi값보다 작으면, 'quantile'칼럼 값에 'qi' 할당\n",
    "        if df.loc[j, 'price'] <= globals()[f'q{i}']:\n",
    "            df.loc[j, 'quantile'] = f'q{i}'"
   ]
  },
  {
   "cell_type": "code",
   "execution_count": 105,
   "id": "4fba9fab",
   "metadata": {},
   "outputs": [
    {
     "data": {
      "text/html": [
       "<div>\n",
       "<style scoped>\n",
       "    .dataframe tbody tr th:only-of-type {\n",
       "        vertical-align: middle;\n",
       "    }\n",
       "\n",
       "    .dataframe tbody tr th {\n",
       "        vertical-align: top;\n",
       "    }\n",
       "\n",
       "    .dataframe thead th {\n",
       "        text-align: right;\n",
       "    }\n",
       "</style>\n",
       "<table border=\"1\" class=\"dataframe\">\n",
       "  <thead>\n",
       "    <tr style=\"text-align: right;\">\n",
       "      <th></th>\n",
       "      <th>index</th>\n",
       "      <th>price</th>\n",
       "      <th>quantile</th>\n",
       "    </tr>\n",
       "  </thead>\n",
       "  <tbody>\n",
       "    <tr>\n",
       "      <th>0</th>\n",
       "      <td>0</td>\n",
       "      <td>58.90</td>\n",
       "      <td>q4</td>\n",
       "    </tr>\n",
       "    <tr>\n",
       "      <th>1</th>\n",
       "      <td>1</td>\n",
       "      <td>239.90</td>\n",
       "      <td>q10</td>\n",
       "    </tr>\n",
       "    <tr>\n",
       "      <th>2</th>\n",
       "      <td>2</td>\n",
       "      <td>199.00</td>\n",
       "      <td>q9</td>\n",
       "    </tr>\n",
       "    <tr>\n",
       "      <th>3</th>\n",
       "      <td>3</td>\n",
       "      <td>12.99</td>\n",
       "      <td>q1</td>\n",
       "    </tr>\n",
       "    <tr>\n",
       "      <th>4</th>\n",
       "      <td>4</td>\n",
       "      <td>199.90</td>\n",
       "      <td>q9</td>\n",
       "    </tr>\n",
       "  </tbody>\n",
       "</table>\n",
       "</div>"
      ],
      "text/plain": [
       "   index   price quantile\n",
       "0      0   58.90       q4\n",
       "1      1  239.90      q10\n",
       "2      2  199.00       q9\n",
       "3      3   12.99       q1\n",
       "4      4  199.90       q9"
      ]
     },
     "execution_count": 105,
     "metadata": {},
     "output_type": "execute_result"
    }
   ],
   "source": [
    "# 십분위 분류가 잘 되었는지 미리보기\n",
    "df.head()"
   ]
  },
  {
   "cell_type": "code",
   "execution_count": 104,
   "id": "15c94ae1",
   "metadata": {},
   "outputs": [
    {
     "data": {
      "text/plain": [
       "<AxesSubplot:xlabel='quantile', ylabel='count'>"
      ]
     },
     "execution_count": 104,
     "metadata": {},
     "output_type": "execute_result"
    },
    {
     "data": {
      "image/png": "[encoded data removed]",
      "text/plain": [
       "<Figure size 432x288 with 1 Axes>"
      ]
     },
     "metadata": {
      "image/png": {
       "height": 261,
       "width": 396
      },
      "needs_background": "light"
     },
     "output_type": "display_data"
    }
   ],
   "source": [
    "# 비슷한 가격대의 주문건이 많아서 총 집계 수량이 차이납니다.\n",
    "# 겹치는 수치가 적은 데이터의 경우 거의 비슷하게 나옵니다.\n",
    "sns.countplot(df['quantile'])"
   ]
  }
 ],
 "metadata": {
  "kernelspec": {
   "display_name": "Python 3",
   "language": "python",
   "name": "python3"
  },
  "language_info": {
   "codemirror_mode": {
    "name": "ipython",
    "version": 3
   },
   "file_extension": ".py",
   "mimetype": "text/x-python",
   "name": "python",
   "nbconvert_exporter": "python",
   "pygments_lexer": "ipython3",
   "version": "3.8.8"
  },
  "toc": {
   "base_numbering": 1,
   "nav_menu": {},
   "number_sections": true,
   "sideBar": true,
   "skip_h1_title": false,
   "title_cell": "Table of Contents",
   "title_sidebar": "Contents",
   "toc_cell": false,
   "toc_position": {},
   "toc_section_display": true,
   "toc_window_display": false
  },
  "varInspector": {
   "cols": {
    "lenName": 16,
    "lenType": 16,
    "lenVar": 40
   },
   "kernels_config": {
    "python": {
     "delete_cmd_postfix": "",
     "delete_cmd_prefix": "del ",
     "library": "var_list.py",
     "varRefreshCmd": "print(var_dic_list())"
    },
    "r": {
     "delete_cmd_postfix": ") ",
     "delete_cmd_prefix": "rm(",
     "library": "var_list.r",
     "varRefreshCmd": "cat(var_dic_list()) "
    }
   },
   "types_to_exclude": [
    "module",
    "function",
    "builtin_function_or_method",
    "instance",
    "_Feature"
   ],
   "window_display": false
  }
 },
 "nbformat": 4,
 "nbformat_minor": 5
}
